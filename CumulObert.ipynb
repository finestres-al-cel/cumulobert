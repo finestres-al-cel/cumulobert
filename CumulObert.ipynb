{
 "cells": [
  {
   "cell_type": "markdown",
   "metadata": {},
   "source": [
    " Codi creat per Laia Casamiquela Juliol 2021 \n",
    " \n",
    " Exemple d'estimació de la distancia i edat d'un cúmul obert utilitzant fotometria B,V de Johnson\n",
    " "
   ]
  },
  {
   "cell_type": "code",
   "execution_count": 37,
   "metadata": {},
   "outputs": [],
   "source": [
    "import pandas as pd\n",
    "import matplotlib.pyplot as plt\n",
    "import math\n",
    "import numpy as np\n",
    "from_maximdl = True\n",
    "lab = ['$\\mathrm{O}5$','$\\mathrm{B}5$','$\\mathrm{A}5$','$\\mathrm{F}0$','$\\mathrm{F}5$',\\\n",
    "       '$\\mathrm{G}5$','$\\mathrm{K}0$','$\\mathrm{K}5$','$\\mathrm{M}0$','$\\mathrm{M}5$']\n",
    "Xpos = [-0.4,-0.2,0.1,0.25,0.4,0.65,0.85,1.15,1.4,1.6]"
   ]
  },
  {
   "cell_type": "markdown",
   "metadata": {},
   "source": [
    "# Carreguem les dades"
   ]
  },
  {
   "cell_type": "markdown",
   "metadata": {},
   "source": [
    "## Exemple: les pleiades"
   ]
  },
  {
   "cell_type": "markdown",
   "metadata": {},
   "source": [
    "Com a exemple carreguem la fotometria de les Pleiades obtingudes per Bouy et al. 2015 (https://arxiv.org/abs/1502.03728).\n",
    "Per a un altre cas caldrà carregar les dades experimentals de cúmul en qüestió: magnituds B i V de les estrelles individuals\n"
   ]
  },
  {
   "cell_type": "code",
   "execution_count": 18,
   "metadata": {},
   "outputs": [],
   "source": [
    "cols = ['DANCe','RAdeg','DEdeg','pmRA','pmDE','e_pmRA','e_pmDE','BTmag','e_BTmag','VTmag','e_VTmag','rmag',\\\n",
    "        'e_rmag','gmag','e_gmag','imag','e_imag','Jmag','e_Jmag','Hmag','e_Hmag','Kmag','e_Kmag','Qflg',\\\n",
    "        'W1','e_W1','W2','e_W2','W3','e_W3','W4','e_W4','Pmb','Teff','e_Teff','Lbol','e_Lbol']\n",
    "f = pd.read_csv('dancept.dat',delim_whitespace=True,names=cols)\n",
    "pleiades = f.query('(Pmb>0.85) & (VTmag<11)') #això és per no agaafar tot el fitxer sino les estrelles més brillants\n"
   ]
  },
  {
   "cell_type": "markdown",
   "metadata": {},
   "source": [
    "## Dades d'un cúmul obtingudes amb el maximDL"
   ]
  },
  {
   "cell_type": "code",
   "execution_count": 38,
   "metadata": {},
   "outputs": [],
   "source": [
    "if from_maximdl:\n",
    "    dades = pd.read_csv('magnituds_NGC6633.csv',sep=',')\n",
    "\n",
    "    #Canvio el format que dona el maximdl\n",
    "    dades = dades.drop(dades.columns[0],axis=1)\n",
    "\n",
    "    columns = []\n",
    "    columns.append(dades.columns[0])\n",
    "    for c in dades.columns[1:]:\n",
    "        name = c.split(':')[0].strip()\n",
    "        columns.append(name)\n",
    "    \n",
    "    dades.columns = columns\n",
    "\n",
    "    # Transposo perque les estrelles quedin per linies\n",
    "    cumul = dades.T\n",
    "    cumul.columns = list(dades[dades.columns[0]])\n",
    "    cumul.columns = cumul.columns.str.strip()\n",
    "    cumul = cumul[1:]\n",
    "else:\n",
    "    dades = pd.read_csv('magnituds_NGC6633.csv',sep=',',index_col=\"Filter\",decimal=\",\")\n",
    "    cumul = dades.T"
   ]
  },
  {
   "cell_type": "markdown",
   "metadata": {},
   "source": [
    "## Models d'isocrones"
   ]
  },
  {
   "cell_type": "markdown",
   "metadata": {},
   "source": [
    "carreguem les isocrones de PARSEC versio 1.2S (5 models d'edats diferents)\n"
   ]
  },
  {
   "cell_type": "code",
   "execution_count": 39,
   "metadata": {},
   "outputs": [],
   "source": [
    "iso = pd.read_csv('isocrones_mod.csv')"
   ]
  },
  {
   "cell_type": "markdown",
   "metadata": {},
   "source": [
    "# Plot"
   ]
  },
  {
   "cell_type": "markdown",
   "metadata": {},
   "source": [
    "Es pot jugar amb l'extinció interestel·lar i la distancia per tal de fer quadrar les dades corregides amb la seqüència principal dels models d'isocrona\n"
   ]
  },
  {
   "cell_type": "code",
   "execution_count": 40,
   "metadata": {},
   "outputs": [],
   "source": [
    "av = 0.2\n",
    "d = 180"
   ]
  },
  {
   "cell_type": "markdown",
   "metadata": {},
   "source": [
    "Indiquem el nom de la taula de dades que volem plotejar i els noms de les magnituds"
   ]
  },
  {
   "cell_type": "code",
   "execution_count": 41,
   "metadata": {},
   "outputs": [],
   "source": [
    "#df = pleiades\n",
    "#magV = 'VTmag'\n",
    "#magB = 'BTmag'\n",
    "df = cumul\n",
    "magV = 'Johnson V'\n",
    "magB = 'Johnson B'\n"
   ]
  },
  {
   "cell_type": "markdown",
   "metadata": {},
   "source": [
    "Fem el gràfic per comprovar si la distancia i extinció que hem posat quadren amb les dades"
   ]
  },
  {
   "cell_type": "code",
   "execution_count": 51,
   "metadata": {},
   "outputs": [
    {
     "ename": "SyntaxError",
     "evalue": "Generator expression must be parenthesized (1315863149.py, line 28)",
     "output_type": "error",
     "traceback": [
      "\u001b[0;36m  File \u001b[0;32m\"/var/folders/lw/th_6sg_914q3rd14q1j_vz_r0000gn/T/ipykernel_67622/1315863149.py\"\u001b[0;36m, line \u001b[0;32m28\u001b[0m\n\u001b[0;31m    iso.query('logAge == @age').Vmag,label='$Age='+str(10**(age-9)+'$',zorder=0)\u001b[0m\n\u001b[0m    ^\u001b[0m\n\u001b[0;31mSyntaxError\u001b[0m\u001b[0;31m:\u001b[0m Generator expression must be parenthesized\n"
     ]
    }
   ],
   "source": [
    "params = {#'backend': 'pdf',\n",
    "         'axes.linewidth': 0.5,\n",
    "         'axes.labelsize': 17,\n",
    "         'font.size': 17,\n",
    "         'legend.fontsize': 17,\n",
    "         'xtick.labelsize': 17,\n",
    "         'ytick.labelsize':17,\n",
    "         #'text.usetex': True\n",
    "}\n",
    "plt.rcParams.update(params)\n",
    "\n",
    "fig, ax = plt.subplots(1,1, figsize=(10,6))\n",
    "fig.subplots_adjust(hspace = 0.18, wspace=0.15,left=0.08,right=0.7,top=0.9,bottom=0.13)\n",
    "\n",
    "#plot de les magnituds i colors aparents\n",
    "ax.plot(df[magB]-df[magV],df[magV],marker='o',\\\n",
    "        color='gray',linestyle='None',ms=3,label='magnitud aparent')\n",
    "\n",
    "#plot de les magnituds corregides pel modul de distancia, i els colors corregits d'extinció\n",
    "DM = 5.*np.log10(d/10.)+av\n",
    "EBV = av/3.1\n",
    "ax.plot(df[magB]-df[magV]-EBV,df[magV]-DM,marker='o',\\\n",
    "        color='k',linestyle='None',ms=3,label='magnitud absoluta')\n",
    "\n",
    "#plot dels models\n",
    "for age in iso.logAge.unique():\n",
    "    ax.plot(iso.query('logAge == @age').Bmag-iso.query('logAge == @age').Vmag,\\\n",
    "             iso.query('logAge == @age').Vmag,label='$Age='+str(10**(age-9))+'$ G',zorder=0)\n",
    "for l,x in zip(lab,Xpos):\n",
    "    ax.annotate(l,xy=(x,15),xytext=(x,15))\n",
    "    \n",
    "\n",
    "ax.set_ylim(15,-6)\n",
    "ax.set_xlim(-0.5,2)\n",
    "ax.legend(bbox_to_anchor=(1., 1.), loc=\"upper left\",ncol=1, fancybox=True)\n",
    "ax.set_xlabel('$B-V$')\n",
    "ax.set_ylabel('$V$')\n",
    "\n",
    "#fig.savefig('pleiades_isocrones.pdf')"
   ]
  },
  {
   "cell_type": "markdown",
   "metadata": {},
   "source": [
    "per aquestes dades de les Pléiades obtenim que el cúmul està a 130 pc i té una edat de logAge=8 (100 Myr)"
   ]
  },
  {
   "cell_type": "code",
   "execution_count": null,
   "metadata": {},
   "outputs": [],
   "source": []
  },
  {
   "cell_type": "code",
   "execution_count": null,
   "metadata": {},
   "outputs": [],
   "source": []
  },
  {
   "cell_type": "code",
   "execution_count": null,
   "metadata": {},
   "outputs": [],
   "source": []
  },
  {
   "cell_type": "code",
   "execution_count": null,
   "metadata": {},
   "outputs": [],
   "source": []
  }
 ],
 "metadata": {
  "kernelspec": {
   "display_name": "Python 3 (ipykernel)",
   "language": "python",
   "name": "python3"
  },
  "language_info": {
   "codemirror_mode": {
    "name": "ipython",
    "version": 3
   },
   "file_extension": ".py",
   "mimetype": "text/x-python",
   "name": "python",
   "nbconvert_exporter": "python",
   "pygments_lexer": "ipython3",
   "version": "3.9.7"
  }
 },
 "nbformat": 4,
 "nbformat_minor": 2
}
